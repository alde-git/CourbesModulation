{
 "cells": [
  {
   "cell_type": "markdown",
   "id": "10f0fc39",
   "metadata": {},
   "source": [
    "# Introduction"
   ]
  },
  {
   "cell_type": "markdown",
   "id": "8d082e1b",
   "metadata": {},
   "source": [
    "<div class=\"alert alert-block alert-danger\">\n",
    "<b>Notebook de developpement:  </b></br>\n",
    "- Introduire des tabs: 1 pour settings (selection fichier, nom de la colonne date), 1 pour courbes de modulation jours de la semaine</br>\n",
    "- Toutes les pérations doivent s'enchainer à partir de la tab de settings: input des données nécessaires puis avec un clique le traitement commence\n",
    "</div></br>\n",
    "\n",
    "<div class=\"alert alert-block alert-success\">\n",
    "<b>Ce notebook permet d'effectuer les analyses suivantes:</b>\n",
    "</div>\n",
    "\n",
    "- Calculer des courbes de modulation adimensionnelle et \"semainisée\"\n",
    "- Comparer jour de semaine / jour de weekend\n",
    "- Comparer les jours de semaine entre eux\n",
    "- Comparer les mois de l'année\n",
    "\n",
    "<div class=\"alert alert-block alert-warning\">\n",
    "<b>Possibles améliorations: </b> Il est possible d'ajouter les informations statistiques sur les courbes de modulation (Q1 et Q3)\n",
    "</div>"
   ]
  },
  {
   "cell_type": "markdown",
   "id": "878d7531",
   "metadata": {},
   "source": [
    "# Librairies"
   ]
  },
  {
   "cell_type": "code",
   "execution_count": 51,
   "id": "0f934022",
   "metadata": {},
   "outputs": [
    {
     "data": {
      "text/html": [
       "<style>.container {width:75% !important;margin-left:25%;}</style>"
      ],
      "text/plain": [
       "<IPython.core.display.HTML object>"
      ]
     },
     "metadata": {},
     "output_type": "display_data"
    }
   ],
   "source": [
    "import pandas as pd\n",
    "import numpy as np\n",
    "import pickle\n",
    "import ntpath\n",
    "import seaborn as sns\n",
    "from datetime import datetime as dt\n",
    "from datetime import timedelta as td\n",
    "import matplotlib.pyplot as plt\n",
    "%matplotlib notebook\n",
    "\n",
    "# Interaction\n",
    "import ipywidgets as widgets\n",
    "from ipywidgets import interact, interact_manual, interactive\n",
    "from ipywidgets import GridspecLayout, Layout\n",
    "from IPython.display import display, Markdown, clear_output\n",
    "from ipyfilechooser import FileChooser\n",
    "\n",
    "from IPython.core.display import display, HTML\n",
    "display(HTML(\"<style>.container {width:75% !important;margin-left:25%;}</style>\"))"
   ]
  },
  {
   "cell_type": "markdown",
   "id": "f9e8ecf6",
   "metadata": {},
   "source": [
    "# Courbes de Modulation"
   ]
  },
  {
   "cell_type": "code",
   "execution_count": 49,
   "id": "c952d78a",
   "metadata": {},
   "outputs": [],
   "source": [
    "def PrepareDataframe(df):\n",
    "    # Ensure the idex is datetime\n",
    "    df.index = df.index.astype('datetime64[ns]')\n",
    "    # Ajout des colonnes mois / jour de  semaine ou weekend / jour de la semaine à la dataframe\n",
    "    df['month_name'] = df.index.month_name()\n",
    "    df['weekday_name'] = df.index.day_name()\n",
    "    df['weekday'] = df['weekday_name'].apply(lambda x: WeekdayWeekend(x))\n",
    "\n",
    "    # Normalisation des données par la moyenne\n",
    "    dfNorm = df.copy(deep=True)\n",
    "    for i in [i for i in df.columns if i not in ['month_name', 'weekday_name', 'weekday']]:\n",
    "        dfNorm[i] = dfNorm[i]/dfNorm[i].mean()\n",
    "    \n",
    "    return df, dfNorm\n",
    "\n",
    "# Determines if the input day is weekday or weekend\n",
    "def WeekdayWeekend(day):\n",
    "    if day in ['Saturday', 'Sunday']:\n",
    "        return 'weekend'\n",
    "    else:\n",
    "        return 'weekday'\n",
    "\n",
    "def FormatAxTitle(title):\n",
    "    splitTitle = title.split(' ')\n",
    "    stringBreakpoint = int(len(splitTitle)/2)\n",
    "    formattedTitle = ' '.join(splitTitle[:stringBreakpoint]) + '\\n' + ' '.join(splitTitle[stringBreakpoint:])\n",
    "    return formattedTitle\n",
    "    \n",
    "    \n",
    "# Quelques préférences graphiques pour la suite\n",
    "figSize = (9.5,5)\n",
    "figSizeTall = (9.5,8)\n",
    "fontsizeFigureTitle = 18\n",
    "fontsizeAxisTitle = 12\n",
    "fontsizeAxisLabel = 10\n",
    "weekdays = ['Monday', 'Tuesday', 'Wednesday', 'Thursday', 'Friday', 'Saturday', 'Sunday']\n"
   ]
  },
  {
   "cell_type": "code",
   "execution_count": 50,
   "id": "00ca0d2e",
   "metadata": {},
   "outputs": [
    {
     "data": {
      "application/vnd.jupyter.widget-view+json": {
       "model_id": "a4c6c59212be4d9392082fd8e16b1cd1",
       "version_major": 2,
       "version_minor": 0
      },
      "text/plain": [
       "FileChooser(path='c:\\Users\\alde\\OneDrive - DHI\\Documents\\DHI Projects\\21803508_SWDE\\Données nettoyées', filena…"
      ]
     },
     "metadata": {},
     "output_type": "display_data"
    },
    {
     "data": {
      "application/vnd.jupyter.widget-view+json": {
       "model_id": "56baed2abfe34677b55e885751bcb611",
       "version_major": 2,
       "version_minor": 0
      },
      "text/plain": [
       "Button(button_style='success', description='Valider le fichier', icon='check', layout=Layout(height='auto', wi…"
      ]
     },
     "metadata": {},
     "output_type": "display_data"
    },
    {
     "name": "stdout",
     "output_type": "stream",
     "text": [
      "c:\\Users\\alde\\OneDrive - DHI\\Documents\\DHI Projects\\21803508_SWDE\\Données nettoyées\\DonnéesNettoyées.csv\n"
     ]
    },
    {
     "data": {
      "application/vnd.jupyter.widget-view+json": {
       "model_id": "df26c38d4db5476cb9446a2a604225ea",
       "version_major": 2,
       "version_minor": 0
      },
      "text/plain": [
       "interactive(children=(Dropdown(description='Colonne:', layout=Layout(width='max-content'), options=('CEFleurus…"
      ]
     },
     "metadata": {},
     "output_type": "display_data"
    },
    {
     "data": {
      "application/vnd.jupyter.widget-view+json": {
       "model_id": "51571c9455304b7f94e47d71c8038ca8",
       "version_major": 2,
       "version_minor": 0
      },
      "text/plain": [
       "Button(button_style='success', description='Valider la colonne', icon='check', layout=Layout(height='auto', wi…"
      ]
     },
     "metadata": {},
     "output_type": "display_data"
    },
    {
     "name": "stdout",
     "output_type": "stream",
     "text": [
      "Date\n"
     ]
    },
    {
     "data": {
      "application/vnd.jupyter.widget-view+json": {
       "model_id": "5eda60d0ea434c5bb02cb452837cf586",
       "version_major": 2,
       "version_minor": 0
      },
      "text/plain": [
       "interactive(children=(Dropdown(description='Station', layout=Layout(width='max-content'), options=('CEFleurus_…"
      ]
     },
     "metadata": {},
     "output_type": "display_data"
    }
   ],
   "source": [
    "# File Chooser\n",
    "global fc\n",
    "fc = FileChooser(r'c:\\Users\\alde\\OneDrive - DHI\\Documents\\DHI Projects\\21803508_SWDE\\Données nettoyées') # root directory for file chooser\n",
    "fc.dir_icon = '\\U0001F4C1 ' # folde ricon\n",
    "fc.dir_icon_append = False # add dir_icon as prefix\n",
    "fc.filter_pattern = ['*.pkl', '*.csv', '*.xlsx'] # look only for supported file types\n",
    "fc.layout = Layout(width='1000px')\n",
    "fc_label = widgets.Label(value=\"Sélectionner un fichier\")\n",
    "display(fc)\n",
    "\n",
    "# Create and display the submit file button\n",
    "submitFileButton = widgets.Button(description='Valider le fichier', button_style='success', icon='check', value=False, layout=Layout(height='auto', width='max-content'))\n",
    "display(submitFileButton)\n",
    "\n",
    "\n",
    "# SUBMIT THE CHOSEN FILE\n",
    "@submitFileButton.on_click\n",
    "def SubmitFileReact(b):\n",
    "    print(fc.selected)\n",
    "    df = pd.read_csv(fc.selected, sep=';', parse_dates=True)\n",
    "    \n",
    "    # Create a widget to select the date column\n",
    "    dateColumnOptions = sorted(df.columns)\n",
    "    widget = widgets.Dropdown(\n",
    "        options=dateColumnOptions,\n",
    "        value=dateColumnOptions[0],\n",
    "        description='Colonne:',\n",
    "        layout={'width': 'max-content'},\n",
    "        disabled=False,)\n",
    "    \n",
    "    # Display the interactive widget\n",
    "    @interact\n",
    "    def Stuff(w = widget):\n",
    "        global dateColumn\n",
    "        dateColumn = w\n",
    "    \n",
    "    # Create and display the submit column button\n",
    "    submitColumnButton = widgets.Button(description='Valider la colonne', button_style='success', icon='check', value=False, layout=Layout(height='auto', width='max-content'))\n",
    "    display(submitColumnButton)\n",
    "    \n",
    "    # SUBMIT THE CHOSEN DATE COLUMN\n",
    "    @submitColumnButton.on_click\n",
    "    def SubmitColumnReact(b):\n",
    "        print(dateColumn)\n",
    "        df.set_index(dateColumn, inplace=True)\n",
    "        dataCols = df.columns\n",
    "        data, dataNorm = PrepareDataframe(df)\n",
    "        \n",
    "        # OLD CODE\n",
    "        selectStationWidget = widgets.Dropdown(\n",
    "        options=sorted(dataCols),\n",
    "        value=sorted(dataCols)[0],\n",
    "        description='Station',\n",
    "        layout={'width': 'max-content'},\n",
    "        disabled=False)\n",
    "\n",
    "        @interact\n",
    "        def SelectStation(station=selectStationWidget):\n",
    "            plt.close('all')\n",
    "            stationData_t = data[[station, 'weekday', 'weekday_name']]\n",
    "            stationDataNorm_t = dataNorm[[station, 'weekday', 'weekday_name']]\n",
    "\n",
    "            # Déterminer les dates disponibles pour la sation choisie\n",
    "            dateOptions = [(date.strftime(' %d %b %Y '), date) for date in stationData_t.index.to_pydatetime()]\n",
    "            index = (0, len(dateOptions)-1)\n",
    "\n",
    "            selectDates = widgets.SelectionRangeSlider(\n",
    "                    options=dateOptions,\n",
    "                    index=index,\n",
    "                    description='Dates',\n",
    "                    orientation='horizontal',\n",
    "                    layout={'width': '600px'},\n",
    "                    continuous_update=False,)\n",
    "\n",
    "            @interact\n",
    "            def ShowSlider(d=selectDates):\n",
    "                plt.close('all')\n",
    "                # Analyser sur la période sélectionnée\n",
    "                start = d[0]\n",
    "                end = d[-1]\n",
    "                stationData = stationData_t[(stationData_t.index>=start) & (stationData_t.index<=end)]\n",
    "                stationDataNorm = stationDataNorm_t[(stationDataNorm_t.index>=start) & (stationDataNorm_t.index<=end)]\n",
    "\n",
    "                # Initialiser la figure\n",
    "                fig = plt.figure(figsize=figSizeTall)\n",
    "                gs = fig.add_gridspec(3,2)\n",
    "                fig.set_figheight(gs.nrows*4)\n",
    "                fig.suptitle(station+'\\n', fontsize=fontsizeFigureTitle, fontweight='bold')\n",
    "\n",
    "                # 0. Plot débit journaliers\n",
    "                if True:\n",
    "                    axis = fig.add_subplot(gs[0, :])\n",
    "                    stationDataDaily = stationData.resample('D').mean().mul(24)\n",
    "                    stationDataDaily.plot(ax=axis, legend=False, linewidth=1, color='tab:blue')\n",
    "                    axis.set_xlabel('')\n",
    "                    axis.set_ylabel('Débit journalier moyen [m$^3$/j]', fontweight='bold')\n",
    "\n",
    "                # 1. Analyse sur les weekdays / weekends\n",
    "                if True:\n",
    "                    axis = fig.add_subplot(gs[1, 0])\n",
    "                    axis.set_title(FormatAxTitle('Comparaison des courbes de modulation jour de semaine / jour de weekend'), fontsize=fontsizeAxisTitle)\n",
    "                    for day in stationDataNorm['weekday'].unique():\n",
    "                        dayDf = stationDataNorm[station][stationDataNorm['weekday']==day]\n",
    "                        dayDfToPlot = dayDf.groupby(dayDf.index.hour).median()\n",
    "                        dayDfToPlot.plot(ax=axis, label=day)\n",
    "                    axis.plot([0,24], [1,1], '--', color='tab:grey', linewidth=2)\n",
    "                    axis.legend(bbox_to_anchor=(0.33, 0, .67, 0), loc=\"lower left\", ncol=4, mode='expand')\n",
    "                    axis.set_xlabel('Heure de la journée', fontweight='bold')\n",
    "                    axis.set_ylabel('Débit normalisé', fontweight='bold')\n",
    "                    axis.set_xlim(-1, 24)\n",
    "                    axis.set_xticks([i for i in range(0,25,4)])\n",
    "                    axis.set_xticklabels([str(i)+'h' for i in axis.get_xticks()])\n",
    "\n",
    "\n",
    "                # 2. Analyse sur chaque jour de la semaine\n",
    "                if True:\n",
    "                    axis = fig.add_subplot(gs[1, 1])\n",
    "                    axis.set_title(FormatAxTitle('Comparaison des courbes de modulation par jour de la semaine'), fontsize=fontsizeAxisTitle)\n",
    "                    for day in weekdays: #stationData['weekday_name'].unique():\n",
    "                        dayDf = stationDataNorm[station][stationDataNorm['weekday_name']==day]\n",
    "                        dayDfToPlot = dayDf.groupby(dayDf.index.hour).median()\n",
    "                        dayDfToPlot.plot(ax=axis, label=day)\n",
    "                    axis.plot([0,24], [1,1], '--', color='tab:grey', linewidth=2)\n",
    "                    axis.legend(bbox_to_anchor=(0.33, 0, .67, 0), loc=\"lower left\", ncol=2, mode='expand')\n",
    "                    axis.set_xlabel('Heure de la journée', fontweight='bold')\n",
    "                    axis.set_ylabel('Débit normalisé', fontweight='bold')\n",
    "                    axis.set_xlim(-1, 24)\n",
    "                    axis.set_xticks([i for i in range(0,25,4)])\n",
    "                    axis.set_xticklabels([str(i)+'h' for i in axis.get_xticks()])\n",
    "\n",
    "\n",
    "                # 3. percentiles (analyse Alicia modifiée)\n",
    "                axis = fig.add_subplot(gs[2, :])\n",
    "                axis2 = axis.twinx()\n",
    "                # Histogramme (bar)\n",
    "                nbins=100\n",
    "                stationDataDaily.hist(ax=axis, bins=nbins, density=True, color='tab:blue', linewidth=0, grid=False)\n",
    "                # Histogramme (cumulé)\n",
    "                #stationData.resample('D').mean().mul(24).hist(ax=axis2, bins=nbins, cumulative=1, density=1, histtype='step', color='tab:orange', linewidth=1, grid=False)\n",
    "                npNbins = np.arange(np.floor(stationDataDaily.min().values), np.ceil(stationDataDaily.max().values))\n",
    "                vals, bins = np.histogram(stationDataDaily, bins=npNbins, density=True)\n",
    "                x = [(bins[idx]+bins[idx+1])/2 for idx in range(npNbins.shape[0]-1)]\n",
    "                y = np.cumsum(vals)\n",
    "                axis2.plot(x, y, color='tab:red', zorder=0)\n",
    "                # Ajout des percentiles 50 et 95\n",
    "                for quant in [.5, .95]:\n",
    "                    quant_val = np.nanquantile(stationDataDaily, quant)\n",
    "                    quant_superscript = ''\n",
    "                    for letter in str(int(quant*100)):\n",
    "                        quant_superscript = quant_superscript + '$_{}$'.format(letter)\n",
    "                    axis2.plot([quant_val, quant_val], [0, quant], '--', color='tab:red')\n",
    "                    axis2.text(quant_val, (quant/2), ' q{} = {:.0f}m$^3$/j'.format(quant_superscript, quant_val), color='tab:red')\n",
    "                #axis2.scatter(np.nanquantile(stationDataDaily, [.5, .95]), [.5, .95], marker='o', color='tab:red')\n",
    "\n",
    "                # Formattage\n",
    "                axis.set_title(''), axis2.set_title('')\n",
    "                axis.set_yticklabels([str(round(100*i,2))+'%' for i in axis.get_yticks()])\n",
    "                axis.set_xlabel('Débit journalier (m$^3$/j)', fontweight='bold')\n",
    "                axis.set_ylabel('Fréquence', fontweight='bold')\n",
    "                axis2.set_ylabel('Fréquence cumulée', color='tab:red', fontweight='bold')\n",
    "                axis2.set_ylim(0, 1.05)\n",
    "                axis2.grid(False)\n",
    "\n",
    "                # Réduire les marges\n",
    "                plt.tight_layout()\n",
    "        \n",
    "    \n",
    "    \n",
    "    \n",
    "    \n"
   ]
  }
 ],
 "metadata": {
  "hide_input": false,
  "kernelspec": {
   "display_name": "Python 3 (ipykernel)",
   "language": "python",
   "name": "python3"
  },
  "language_info": {
   "codemirror_mode": {
    "name": "ipython",
    "version": 3
   },
   "file_extension": ".py",
   "mimetype": "text/x-python",
   "name": "python",
   "nbconvert_exporter": "python",
   "pygments_lexer": "ipython3",
   "version": "3.7.11"
  },
  "toc": {
   "base_numbering": 1,
   "nav_menu": {},
   "number_sections": true,
   "sideBar": true,
   "skip_h1_title": false,
   "title_cell": "Table of Contents",
   "title_sidebar": "Contents",
   "toc_cell": false,
   "toc_position": {
    "height": "calc(100% - 180px)",
    "left": "10px",
    "top": "150px",
    "width": "335.333px"
   },
   "toc_section_display": true,
   "toc_window_display": true
  },
  "varInspector": {
   "cols": {
    "lenName": 16,
    "lenType": 16,
    "lenVar": 40
   },
   "kernels_config": {
    "python": {
     "delete_cmd_postfix": "",
     "delete_cmd_prefix": "del ",
     "library": "var_list.py",
     "varRefreshCmd": "print(var_dic_list())"
    },
    "r": {
     "delete_cmd_postfix": ") ",
     "delete_cmd_prefix": "rm(",
     "library": "var_list.r",
     "varRefreshCmd": "cat(var_dic_list()) "
    }
   },
   "types_to_exclude": [
    "module",
    "function",
    "builtin_function_or_method",
    "instance",
    "_Feature"
   ],
   "window_display": false
  }
 },
 "nbformat": 4,
 "nbformat_minor": 5
}
