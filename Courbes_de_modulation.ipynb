{
 "cells": [
  {
   "cell_type": "markdown",
   "id": "10f0fc39",
   "metadata": {},
   "source": [
    "# Introduction"
   ]
  },
  {
   "cell_type": "markdown",
   "id": "8d082e1b",
   "metadata": {},
   "source": [
    "<div class=\"alert alert-block alert-success\">\n",
    "<b>Ce notebook permet d'effectuer les analyses suivantes:</b>\n",
    "</div>\n",
    "\n",
    "- Calculer des courbes de modulation adimensionnelle et \"semainisée\"\n",
    "- Comparer jour de semaine / jour de weekend\n",
    "- Comparer les jours de semaine entre eux\n",
    "- Comparer les mois de l'année\n",
    "\n",
    "<div class=\"alert alert-block alert-success\">\n",
    "<b>Format de la donnée en entrée: </b> fichier pickle produit par le notebook de traitement de la donnée brute\n",
    "</div>\n",
    "\n",
    "<div class=\"alert alert-block alert-warning\">\n",
    "<b>Possibles améliorations: </b> Il est possible d'ajouter les informations statistiques sur les courbes de modulation (Q1 et Q3)\n",
    "</div>\n",
    "\n",
    "<div class=\"alert alert-block alert-warning\">\n",
    "<b>Format de la donnée en entrée: </b> Il est possible de modifier le notebook afin de spécifier des fichiers CSV en entrée (donnée brute et fuites). Cependant les fichiers pickle sont plus efficaces et plus rapides à utiliser.\n",
    "</div>"
   ]
  },
  {
   "cell_type": "markdown",
   "id": "878d7531",
   "metadata": {},
   "source": [
    "# Librairies"
   ]
  },
  {
   "cell_type": "code",
   "execution_count": 1,
   "id": "0f934022",
   "metadata": {},
   "outputs": [
    {
     "data": {
      "text/html": [
       "<style>.container {width:75% !important;margin-left:25%;}</style>"
      ],
      "text/plain": [
       "<IPython.core.display.HTML object>"
      ]
     },
     "metadata": {},
     "output_type": "display_data"
    }
   ],
   "source": [
    "import pandas as pd\n",
    "import numpy as np\n",
    "import pickle\n",
    "import ntpath\n",
    "import seaborn as sns\n",
    "from datetime import datetime as dt\n",
    "from datetime import timedelta as td\n",
    "import matplotlib.pyplot as plt\n",
    "\n",
    "# Interaction\n",
    "import ipywidgets as widgets\n",
    "from ipywidgets import interact\n",
    "from ipywidgets import GridspecLayout, Layout\n",
    "from IPython.display import display, Markdown, clear_output\n",
    "from ipyfilechooser import FileChooser\n",
    "\n",
    "from IPython.core.display import display, HTML\n",
    "display(HTML(\"<style>.container {width:75% !important;margin-left:25%;}</style>\"))"
   ]
  },
  {
   "cell_type": "markdown",
   "id": "1e05ed8f",
   "metadata": {},
   "source": [
    "# Entrée utilisateur"
   ]
  },
  {
   "cell_type": "markdown",
   "id": "d07140e8",
   "metadata": {},
   "source": [
    "<div class=\"alert alert-block alert-warning\">\n",
    "<b>Possible amélioration: </b> utiliser un widget \"File selection\" pour rendre le processus plus simple d'utilisation \n",
    "</div>"
   ]
  },
  {
   "cell_type": "code",
   "execution_count": 7,
   "id": "754708e0",
   "metadata": {},
   "outputs": [
    {
     "name": "stdout",
     "output_type": "stream",
     "text": [
      "DONE\n",
      "Données chargées:\n",
      "\t- Malmedy\n",
      "\t- Charleroi\n"
     ]
    }
   ],
   "source": [
    "# Fichier Paramètres\n",
    "paramSheetPath = r\"C:\\Users\\alde\\OneDrive - DHI\\Documents\\DHI Projects\\21803508_SWDE\\06 Tools\\Parameters\\parametres_modulotool.xlsx\"\n",
    "paramsdf = pd.read_excel(paramSheetPath)\n",
    "paramsdf = paramsdf[paramsdf.Active]\n",
    "\n",
    "datasets=[]\n",
    "for idx, row in paramsdf.iterrows():\n",
    "    if row['Path_clean'].endswith('.pkl'):\n",
    "        with open(row['Path_clean'], 'rb') as f:\n",
    "            data = pickle.load(f)\n",
    "        datasets.append({'Nom':row['Nom'],\n",
    "                         'Path_raw':row['Path_raw'],\n",
    "                         'Path_clean':row['Path_clean'],\n",
    "                         'Path_leaks':row['Path_leaks'],\n",
    "                         'Path_report':row['Path_report'],\n",
    "                         'Data_clean':data})\n",
    "    elif row['Path_clean'].endswith('.csv'):\n",
    "        data = pd.read_csv(row['Path_clean'], sep=';', index_col='DATE', parse_dates=True)\n",
    "        datasets.append({'Nom':row['Nom'],\n",
    "                         'Path_raw':row['Path_raw'],\n",
    "                         'Path_clean':row['Path_clean'],\n",
    "                         'Path_leaks':row['Path_leaks'],\n",
    "                         'Path_report':row['Path_report'],\n",
    "                         'Data_clean':data})\n",
    "\n",
    "if False:\n",
    "    # Lecture des jeux de données\n",
    "    datasets = {}\n",
    "    for rowIdx, row in params.iterrows():\n",
    "        # Récupérer le nom du jeu de donnée (sinon defaut: nom du fichier)\n",
    "        if row['Nom'] != '':\n",
    "            datasetName = row['Nom']\n",
    "        else:\n",
    "            datasetName = ntpath.basename(row['Path'])\n",
    "\n",
    "        # Récupérer la donnée suivant le type de fichier\n",
    "        if row['Path'].endswith('.xlsx'):\n",
    "            data = pd.read_excel(row['Path'], sheet_name=row['Column'])\n",
    "        elif row['Path'].endswith('.pkl'):\n",
    "            with open(row['Path'], 'rb') as f:\n",
    "                allData = pickle.load(f)\n",
    "                data_w_leaks = allData['data_w_leaks']\n",
    "                data = allData['data_wout_leaks']\n",
    "                leaks = allData['leaks']\n",
    "                del allData\n",
    "        elif row['Path'].endswith('.csv'):\n",
    "            print('CSV files not supported yet')\n",
    "            continue\n",
    "\n",
    "        # Enregistrer dans le dictionnaire de jeux de donnée\n",
    "        datasets[datasetName] = data\n",
    "\n",
    "print('DONE')\n",
    "print('Données chargées:')\n",
    "print('\\t- ' + '\\n\\t- '.join([d['Nom'] for d in datasets]))"
   ]
  },
  {
   "cell_type": "markdown",
   "id": "632de8a9",
   "metadata": {},
   "source": [
    "# Fonctions personnalisées et options graphiques"
   ]
  },
  {
   "cell_type": "code",
   "execution_count": 18,
   "id": "cecbb8d3",
   "metadata": {},
   "outputs": [],
   "source": [
    "# Quelques préférences graphiques pour la suite\n",
    "figSize = (9.5,5)\n",
    "figSizeTall = (9.5,8)\n",
    "fontsizeFigureTitle = 18\n",
    "fontsizeAxisTitle = 12\n",
    "fontsizeAxisLabel = 10\n",
    "\n",
    "# Liste des jours de la semaine pour représenatation graphique ci-dessous (doit être en anglais)\n",
    "weekdays = ['Monday', 'Tuesday', 'Wednesday', 'Thursday', 'Friday', 'Saturday', 'Sunday']\n",
    "\n",
    "# Pour rendre les figures interactives + quelques options pour graphismes\n",
    "%matplotlib notebook\n",
    "layout = widgets.Layout(width='auto')\n",
    "layoutDD = widgets.Layout(width='500px')\n",
    "sns.set_style(\"whitegrid\")\n",
    "sns.set_palette(\"Dark2\")\n",
    "\n",
    "# Fonction \n",
    "def WeekdayWeekend(day):\n",
    "    if day in ['Saturday', 'Sunday']:\n",
    "        return 'weekend'\n",
    "    else:\n",
    "        return 'weekday'\n",
    "\n",
    "# Simple function to convert date to string in hard-coded format\n",
    "def date2str(date):\n",
    "    return dt.strftime(date, '%d-%m-%Y')\n",
    "\n",
    "def FormatAxTitle(title):\n",
    "    splitTitle = title.split(' ')\n",
    "    stringBreakpoint = int(len(splitTitle)/2)\n",
    "    formattedTitle = ' '.join(splitTitle[:stringBreakpoint]) + '\\n' + ' '.join(splitTitle[stringBreakpoint:])\n",
    "    return formattedTitle\n",
    "\n",
    "def CreateCopyButton(description, button_style):\n",
    "    return widgets.Button(description=description, button_style=button_style, icon='check', layout=Layout(height='auto', width='auto',color='white'))\n",
    "\n",
    "def CopyDataFrameToClipboard(df, excel=True):\n",
    "    df.to_clipboard(excel=excel)\n",
    "    \n",
    "def PrepareDataframe(df):\n",
    "    # Ajout des colonnes mois / jour de  semaine ou weekend / jour de la semaine à la dataframe\n",
    "    df['month_name'] = df.index.month_name()\n",
    "    df['weekday_name'] = df.index.day_name()\n",
    "    df['weekday'] = df['weekday_name'].apply(lambda x: WeekdayWeekend(x))\n",
    "\n",
    "    # Normalisation des données par la moyenne\n",
    "    dfNorm = df.copy(deep=True)\n",
    "    for i in [i for i in df.columns if i not in ['month_name', 'weekday_name', 'weekday']]:\n",
    "        dfNorm[i] = dfNorm[i]/dfNorm[i].mean()\n",
    "    \n",
    "    return df, dfNorm"
   ]
  },
  {
   "cell_type": "markdown",
   "id": "fdba6ada",
   "metadata": {},
   "source": [
    "# Choix du jeu de données"
   ]
  },
  {
   "cell_type": "code",
   "execution_count": 10,
   "id": "936c5802",
   "metadata": {},
   "outputs": [
    {
     "data": {
      "application/vnd.jupyter.widget-view+json": {
       "model_id": "0fa5bfd6be8745ec9383860cef67f261",
       "version_major": 2,
       "version_minor": 0
      },
      "text/plain": [
       "GridspecLayout(children=(Dropdown(description='Input dataset:', layout=Layout(grid_area='widget001'), options=…"
      ]
     },
     "metadata": {},
     "output_type": "display_data"
    },
    {
     "data": {
      "application/vnd.jupyter.widget-view+json": {
       "model_id": "c72927aedaee4f03968412fa2d0ba018",
       "version_major": 2,
       "version_minor": 0
      },
      "text/plain": [
       "interactive(children=(Output(),), _dom_classes=('widget-interact',))"
      ]
     },
     "metadata": {},
     "output_type": "display_data"
    }
   ],
   "source": [
    "datasetsOptions = [i['Nom'] for i in datasets]\n",
    "\n",
    "selectDatasetWidget = widgets.Dropdown(\n",
    "    options=datasetsOptions,\n",
    "    value=datasetsOptions[0],\n",
    "    description='Input dataset:',\n",
    "    disabled=False,)\n",
    "\n",
    "if False:\n",
    "    @interact\n",
    "    def SelectDataset(dsName=selectDatasetWidget):\n",
    "        df = next(dikt['Data_raw'] for dikt in datasets if dikt['Nom']==dsName)\n",
    "        dataCols = df.columns\n",
    "        display(dataCols)\n",
    "        return df\n",
    "\n",
    "###### LAYOUT #######\n",
    "# Create elements to display\n",
    "out = widgets.Output()\n",
    "info = widgets.Label('Choose a dataset')\n",
    "ApproveButton = CreateCopyButton('Approve', 'success')\n",
    "\n",
    "# Arrange the elements in a grid\n",
    "grid_data = GridspecLayout(2, 5)\n",
    "grid_data[0,1] = selectDatasetWidget\n",
    "grid_data[0,3] = ApproveButton\n",
    "grid_data[1,:] = out\n",
    "\n",
    "# Display\n",
    "display(grid_data)\n",
    "\n",
    "df, dataCols, ds = None, None, None\n",
    "\n",
    "@interact\n",
    "def SelectDataset():\n",
    "    out.clear_output()\n",
    "\n",
    "    # Event listener on the submit button: function to execute when clicked\n",
    "    @ApproveButton.on_click\n",
    "    def react_on_click(b):\n",
    "        out.clear_output()\n",
    "        global df, dataCols, ds\n",
    "        df = next(dikt['Data_clean']['data_wout_leaks'] for dikt in datasets if dikt['Nom']==selectDatasetWidget.value)\n",
    "        dataCols = df.columns\n",
    "        ds = next(dikt for dikt in datasets if dikt['Nom']==selectDatasetWidget.value)\n",
    "        with out:\n",
    "            print('Selected dataset: {}'.format(selectDatasetWidget.value))\n",
    "\n",
    "# Maintenant on peut définir la dataframe pour stocker des informations sur le nettoyage\n",
    "#outdf = pd.DataFrame(index=dataCols, columns=['Discharge (base)','Discharge (leaks)', 'Deleted datapoints', 'Deleted datapoints percentage'])\n"
   ]
  },
  {
   "cell_type": "markdown",
   "id": "fefbb9bd",
   "metadata": {},
   "source": [
    "# Import des données"
   ]
  },
  {
   "cell_type": "code",
   "execution_count": 12,
   "id": "ad5d63eb",
   "metadata": {},
   "outputs": [],
   "source": [
    "# Ancienne méthode dans le cas d'un seul pickle file\n",
    "if False:\n",
    "    # Ouvrir le fichier pickle et extraire les données\n",
    "    with open(dataPickleFilePath, 'rb') as f:\n",
    "        allData = pickle.load(f)\n",
    "        data_w_leaks = allData['data_w_leaks']\n",
    "        data = allData['data_wout_leaks']\n",
    "        leaks = allData['leaks']\n",
    "        del allData\n",
    "\n",
    "    # On va ajouter des colonnes après.\n",
    "    # Ici on garde une trace des colonnes initiales\n",
    "    dataCols = data.columns\n",
    "\n",
    "    # Ajout des colonnes mois / jour de  semaine ou weekend / jour de la semaine à la dataframe\n",
    "    data['month_name'] = data.index.month_name()\n",
    "    data['weekday_name'] = data.index.day_name()\n",
    "    data['weekday'] = data['weekday_name'].apply(lambda x: WeekdayWeekend(x))\n",
    "\n",
    "    # Normalisation des données par la moyenne\n",
    "    dataNorm = data.copy(deep=True)\n",
    "    for i in dataCols:\n",
    "        dataNorm[i] = dataNorm[i]/dataNorm[i].mean()\n",
    "\n",
    "    # Liste des jours de la semaine pour représenatation graphique ci-dessous (doit être en anglais)\n",
    "    weekdays = ['Monday', 'Tuesday', 'Wednesday', 'Thursday', 'Friday', 'Saturday', 'Sunday']\n"
   ]
  },
  {
   "cell_type": "code",
   "execution_count": 21,
   "id": "c02d7e60",
   "metadata": {},
   "outputs": [
    {
     "data": {
      "text/plain": [
       "'nbAgg'"
      ]
     },
     "execution_count": 21,
     "metadata": {},
     "output_type": "execute_result"
    }
   ],
   "source": [
    "import matplotlib\n",
    "matplotlib.get_backend()"
   ]
  },
  {
   "cell_type": "markdown",
   "id": "f93b57ec",
   "metadata": {},
   "source": [
    "# Visualisation"
   ]
  },
  {
   "cell_type": "markdown",
   "id": "cdd99143",
   "metadata": {},
   "source": [
    "## Courbes de modulation - jours de la semaine"
   ]
  },
  {
   "cell_type": "code",
   "execution_count": 19,
   "id": "d9add0ec",
   "metadata": {
    "scrolled": false
   },
   "outputs": [
    {
     "data": {
      "application/vnd.jupyter.widget-view+json": {
       "model_id": "0ff450a48d5b4a0788aa2fdec12d7e07",
       "version_major": 2,
       "version_minor": 0
      },
      "text/plain": [
       "interactive(children=(Dropdown(description='Station', layout=Layout(width='500px'), options=('AEROPOLE_CE_CM_F…"
      ]
     },
     "metadata": {},
     "output_type": "display_data"
    }
   ],
   "source": [
    "# Choisir le fichier d'entrée à partir de la liste renseignée dans le tableur de paramètres\n",
    "if False:\n",
    "    fileOptions = list(datasets.keys()) #.Nom.to_list()\n",
    "    selectFileWidget = widgets.Dropdown(\n",
    "        options=fileOptions,\n",
    "        value=fileOptions[0],\n",
    "        description='Input file:',\n",
    "        disabled=False,)\n",
    "\n",
    "\n",
    "if False:\n",
    "    @interact\n",
    "    def SelectInputFile(f=selectFileWidget):\n",
    "        data, dataNorm = PrepareDataframe(datasets[f])\n",
    "        dataCols = [i for i in data.columns if i not in ['month_name', 'weekday_name', 'weekday']]\n",
    "if True:\n",
    "    data, dataNorm = PrepareDataframe(df)\n",
    "    # Choisir la station à partir de ce qui est disponible dans la dataframe\n",
    "    selectStationWidget = widgets.Dropdown(\n",
    "        options=sorted(dataCols),\n",
    "        value=sorted(dataCols)[0],\n",
    "        description='Station',\n",
    "        layout=layoutDD,\n",
    "        disabled=False)\n",
    "\n",
    "    @interact\n",
    "    def SelectStation(station=selectStationWidget):\n",
    "        plt.close('all')\n",
    "        stationData_t = data[[station, 'weekday', 'weekday_name']]\n",
    "        stationDataNorm_t = dataNorm[[station, 'weekday', 'weekday_name']]\n",
    "\n",
    "        # Déterminer les dates disponibles pour la sation choisie\n",
    "        dateOptions = [(date.strftime(' %d %b %Y '), date) for date in stationData_t.index.to_pydatetime()]\n",
    "        index = (0, len(dateOptions)-1)\n",
    "\n",
    "        selectDates = widgets.SelectionRangeSlider(\n",
    "                options=dateOptions,\n",
    "                index=index,\n",
    "                description='Dates',\n",
    "                orientation='horizontal',\n",
    "                layout={'width': '600px'},\n",
    "                continuous_update=False,)\n",
    "\n",
    "        @interact\n",
    "        def ShowSlider(d=selectDates):\n",
    "            plt.close('all')\n",
    "            # Analyser sur la période sélectionnée\n",
    "            start = d[0]\n",
    "            end = d[-1]\n",
    "            stationData = stationData_t[(stationData_t.index>=start) & (stationData_t.index<=end)]\n",
    "            stationDataNorm = stationDataNorm_t[(stationDataNorm_t.index>=start) & (stationDataNorm_t.index<=end)]\n",
    "\n",
    "            # Initialiser la figure\n",
    "            fig = plt.figure(figsize=figSizeTall)\n",
    "            gs = fig.add_gridspec(3,2)\n",
    "            fig.set_figheight(gs.nrows*4)\n",
    "            fig.suptitle(station+'\\n', fontsize=fontsizeFigureTitle, fontweight='bold')\n",
    "\n",
    "            # 0. Plot débit journaliers\n",
    "            if True:\n",
    "                axis = fig.add_subplot(gs[0, :])\n",
    "                stationDataDaily = stationData.resample('D').mean().mul(24)\n",
    "                stationDataDaily.plot(ax=axis, legend=False, linewidth=1, color='tab:blue')\n",
    "                axis.set_xlabel('')\n",
    "                axis.set_ylabel('Débit journalier moyen [m$^3$/j]', fontweight='bold')\n",
    "\n",
    "            # 1. Analyse sur les weekdays / weekends\n",
    "            if True:\n",
    "                axis = fig.add_subplot(gs[1, 0])\n",
    "                axis.set_title(FormatAxTitle('Comparaison des courbes de modulation jour de semaine / jour de weekend'), fontsize=fontsizeAxisTitle)\n",
    "                for day in stationDataNorm['weekday'].unique():\n",
    "                    dayDf = stationDataNorm[station][stationDataNorm['weekday']==day]\n",
    "                    dayDfToPlot = dayDf.groupby(dayDf.index.hour).median()\n",
    "                    dayDfToPlot.plot(ax=axis, label=day)\n",
    "                axis.plot([0,24], [1,1], '--', color='tab:grey', linewidth=2)\n",
    "                axis.legend(bbox_to_anchor=(0.33, 0, .67, 0), loc=\"lower left\", ncol=4, mode='expand')\n",
    "                axis.set_xlabel('Heure de la journée', fontweight='bold')\n",
    "                axis.set_ylabel('Débit normalisé', fontweight='bold')\n",
    "                axis.set_xlim(-1, 24)\n",
    "                axis.set_xticks([i for i in range(0,25,4)])\n",
    "                axis.set_xticklabels([str(i)+'h' for i in axis.get_xticks()])\n",
    "\n",
    "\n",
    "            # 2. Analyse sur chaque jour de la semaine\n",
    "            if True:\n",
    "                axis = fig.add_subplot(gs[1, 1])\n",
    "                axis.set_title(FormatAxTitle('Comparaison des courbes de modulation par jour de la semaine'), fontsize=fontsizeAxisTitle)\n",
    "                for day in weekdays: #stationData['weekday_name'].unique():\n",
    "                    dayDf = stationDataNorm[station][stationDataNorm['weekday_name']==day]\n",
    "                    dayDfToPlot = dayDf.groupby(dayDf.index.hour).median()\n",
    "                    dayDfToPlot.plot(ax=axis, label=day)\n",
    "                axis.plot([0,24], [1,1], '--', color='tab:grey', linewidth=2)\n",
    "                axis.legend(bbox_to_anchor=(0.33, 0, .67, 0), loc=\"lower left\", ncol=2, mode='expand')\n",
    "                axis.set_xlabel('Heure de la journée', fontweight='bold')\n",
    "                axis.set_ylabel('Débit normalisé', fontweight='bold')\n",
    "                axis.set_xlim(-1, 24)\n",
    "                axis.set_xticks([i for i in range(0,25,4)])\n",
    "                axis.set_xticklabels([str(i)+'h' for i in axis.get_xticks()])\n",
    "\n",
    "\n",
    "            # 3. percentiles (analyse Alicia modifiée)\n",
    "            axis = fig.add_subplot(gs[2, :])\n",
    "            axis2 = axis.twinx()\n",
    "            # Histogramme (bar)\n",
    "            nbins=100\n",
    "            stationDataDaily.hist(ax=axis, bins=nbins, density=True, color='tab:blue', linewidth=0, grid=False)\n",
    "            # Histogramme (cumulé)\n",
    "            #stationData.resample('D').mean().mul(24).hist(ax=axis2, bins=nbins, cumulative=1, density=1, histtype='step', color='tab:orange', linewidth=1, grid=False)\n",
    "            npNbins = np.arange(np.floor(stationDataDaily.min().values), np.ceil(stationDataDaily.max().values))\n",
    "            vals, bins = np.histogram(stationDataDaily, bins=npNbins, density=True)\n",
    "            x = [(bins[idx]+bins[idx+1])/2 for idx in range(npNbins.shape[0]-1)]\n",
    "            y = np.cumsum(vals)\n",
    "            axis2.plot(x, y, color='tab:red', zorder=0)\n",
    "            # Ajout des percentiles 50 et 95\n",
    "            for quant in [.5, .95]:\n",
    "                quant_val = np.nanquantile(stationDataDaily, quant)\n",
    "                quant_superscript = ''\n",
    "                for letter in str(int(quant*100)):\n",
    "                    quant_superscript = quant_superscript + '$_{}$'.format(letter)\n",
    "                axis2.plot([quant_val, quant_val], [0, quant], '--', color='tab:red')\n",
    "                axis2.text(quant_val, (quant/2), ' q{} = {:.0f}m$^3$/j'.format(quant_superscript, quant_val), color='tab:red')\n",
    "            #axis2.scatter(np.nanquantile(stationDataDaily, [.5, .95]), [.5, .95], marker='o', color='tab:red')\n",
    "\n",
    "            # Formattage\n",
    "            axis.set_title(''), axis2.set_title('')\n",
    "            axis.set_yticklabels([str(round(100*i,2))+'%' for i in axis.get_yticks()])\n",
    "            axis.set_xlabel('Débit journalier (m$^3$/j)', fontweight='bold')\n",
    "            axis.set_ylabel('Fréquence', fontweight='bold')\n",
    "            axis2.set_ylabel('Fréquence cumulée', color='tab:red', fontweight='bold')\n",
    "            axis2.set_ylim(0, 1.05)\n",
    "            axis2.grid(False)\n",
    "\n",
    "            # Réduire les marges\n",
    "            plt.tight_layout()"
   ]
  },
  {
   "cell_type": "markdown",
   "id": "4738a20b",
   "metadata": {},
   "source": [
    "## Courbes de modulation - mois de l'année"
   ]
  },
  {
   "cell_type": "code",
   "execution_count": 43,
   "id": "02b6db84",
   "metadata": {
    "scrolled": false
   },
   "outputs": [
    {
     "data": {
      "application/vnd.jupyter.widget-view+json": {
       "model_id": "b95a78c93a624d1bab007788d6d9e811",
       "version_major": 2,
       "version_minor": 0
      },
      "text/plain": [
       "interactive(children=(Dropdown(description='Input file:', options=('données SWDE',), value='données SWDE'), Ou…"
      ]
     },
     "metadata": {},
     "output_type": "display_data"
    }
   ],
   "source": [
    "# Choisir le fichier d'entrée à partir de la liste renseignée dans le tableur de paramètres\n",
    "fileOptions = list(datasets.keys()) #.Nom.to_list()\n",
    "selectFileWidget = widgets.Dropdown(\n",
    "    options=fileOptions,\n",
    "    value=fileOptions[0],\n",
    "    description='Input file:',\n",
    "    disabled=False,)\n",
    "\n",
    "\n",
    "\n",
    "@interact\n",
    "def SelectInputFile(f=selectFileWidget):\n",
    "    data, dataNorm = PrepareDataframe(datasets[f])\n",
    "    dataCols = [i for i in data.columns if i not in ['month_name', 'weekday_name', 'weekday']]\n",
    "\n",
    "    # Choisir la station à partir de ce qui est disponible dans la dataframe\n",
    "    selectStationWidget = widgets.RadioButtons(\n",
    "        options=dataCols,\n",
    "        value=dataCols[0],\n",
    "        description='Station',\n",
    "        layout=layout,\n",
    "        disabled=False)\n",
    "\n",
    "    @interact\n",
    "    def SelectStation(station=selectStationWidget):\n",
    "        plt.close('all')\n",
    "\n",
    "        stationData_t = data[[station, 'month_name']]\n",
    "        stationDataNorm_t = dataNorm[[station, 'month_name']]\n",
    "\n",
    "        # Some setup and the interactive widget\n",
    "        dateOptions = [(date.strftime(' %d %b %Y '), date) for date in stationData_t.index.to_pydatetime()]\n",
    "        index = (0, len(dateOptions)-1)\n",
    "\n",
    "        selectDates = widgets.SelectionRangeSlider(\n",
    "                options=dateOptions,\n",
    "                index=index,\n",
    "                description='Dates',\n",
    "                orientation='horizontal',\n",
    "                layout={'width': '500px'},\n",
    "                continuous_update=False,)\n",
    "\n",
    "        @interact\n",
    "        def ShowSlider(d=selectDates):\n",
    "\n",
    "            start = d[0]\n",
    "            end = d[-1]\n",
    "\n",
    "            stationData = stationData_t[(stationData_t.index>=start) & (stationData_t.index<=end)]\n",
    "            stationDataNorm = stationDataNorm_t[(stationDataNorm_t.index>=start) & (stationDataNorm_t.index<=end)]\n",
    "\n",
    "            fig, ax = plt.subplots(2,1, figsize=(9.5,8))\n",
    "            fig.suptitle(station+'\\n', fontsize=fontsizeFigureTitle, fontweight='bold')\n",
    "\n",
    "            # 1. Boxplot / violinplot avec les données au mois\n",
    "            axis = ax[0]\n",
    "            axis.set_title('Débit journalier en fonction du mois de l\\'année', fontsize=fontsizeAxisTitle)\n",
    "            stationDataDaily = stationData.resample('D').mean().mul(24)\n",
    "            stationDataDaily['month_name'] = stationDataDaily.index.month_name()\n",
    "            #sns.boxplot(data=stationDataDaily, x='month_name', y=station, ax=axis)\n",
    "            sns.violinplot(data=stationDataDaily, x='month_name', y=station, ax=axis, inner='quartile', sat=.6, alpha=.5, bw=.5)\n",
    "            axis.set_xlabel('Mois de l\\'année', fontweight='bold')\n",
    "            axis.set_xticklabels(axis.get_xticklabels(), rotation=45, ha='right')\n",
    "            axis.set_ylabel('Débit journalier [m$^3$/j]', fontweight='bold')\n",
    "\n",
    "\n",
    "            # 2. Courbes de modulation par mois de l'année\n",
    "            axis = ax[1]\n",
    "            axis.set_title('Comparaison des courbes de modulation par mois de l\\'année', fontsize=fontsizeAxisTitle)\n",
    "            for month in stationDataNorm['month_name'].unique():\n",
    "                dayDf = stationDataNorm[station][stationDataNorm['month_name']==month]\n",
    "                dayDfToPlot = dayDf.groupby(dayDf.index.hour).mean()\n",
    "                dayDfToPlot.plot(ax=axis, label=month)\n",
    "            axis.plot([0,24], [1,1], '--', color='tab:grey', linewidth=2)\n",
    "            #axis.legend()\n",
    "            axis.set_xlabel('Heure de la journée', fontweight='bold')\n",
    "            axis.set_ylabel('Débit normalisé', fontweight='bold')\n",
    "            axis.set_xlim(-1, 24)\n",
    "            axis.set_xticks([i for i in range(0,25,4)])\n",
    "            axis.set_xticklabels([str(i)+'h' for i in axis.get_xticks()])\n",
    "            axis.legend(bbox_to_anchor=(.33, 0, .67, 0), loc=\"lower right\", mode=\"expand\", ncol=6)\n",
    "\n",
    "            # Réduire les marges\n",
    "            plt.tight_layout()"
   ]
  },
  {
   "cell_type": "markdown",
   "id": "e073e54c",
   "metadata": {},
   "source": [
    "## Analyse des fuites"
   ]
  },
  {
   "cell_type": "code",
   "execution_count": 44,
   "id": "e1a509e9",
   "metadata": {},
   "outputs": [
    {
     "data": {
      "application/vnd.jupyter.widget-view+json": {
       "model_id": "f284eaf82c0341fea750bc388ed6d195",
       "version_major": 2,
       "version_minor": 0
      },
      "text/plain": [
       "interactive(children=(Dropdown(description='Input file:', options=('données SWDE',), value='données SWDE'), Ou…"
      ]
     },
     "metadata": {},
     "output_type": "display_data"
    }
   ],
   "source": [
    "# Choisir le fichier d'entrée à partir de la liste renseignée dans le tableur de paramètres\n",
    "fileOptions = list(datasets.keys()) #.Nom.to_list()\n",
    "selectFileWidget = widgets.Dropdown(\n",
    "    options=fileOptions,\n",
    "    value=fileOptions[0],\n",
    "    description='Input file:',\n",
    "    disabled=False,)\n",
    "\n",
    "\n",
    "\n",
    "@interact\n",
    "def SelectInputFile(f=selectFileWidget):\n",
    "    data, dataNorm = PrepareDataframe(datasets[f])\n",
    "    dataCols = [i for i in data.columns if i not in ['month_name', 'weekday_name', 'weekday']]\n",
    "\n",
    "    # Choisir la station à partir de ce qui est disponible dans la dataframe\n",
    "    selectStationWidget = widgets.RadioButtons(\n",
    "        options=dataCols,\n",
    "        value=dataCols[0],\n",
    "        description='Station',\n",
    "        layout=layout,\n",
    "        disabled=False)\n",
    "\n",
    "    @interact\n",
    "    def SelectStation(station=selectStationWidget):\n",
    "        plt.close('all')\n",
    "\n",
    "        df_leaks_daily_min = leaks.loc[:,station].resample('W-MON').min()#.shift(periods=int((nightEnd-nightStart)/2), freq='H')\n",
    "        meanLeaks = df_leaks_daily_min.mean()\n",
    "\n",
    "        # Plot les fuites journalières\n",
    "        fig, ax = plt.subplots(figsize=figSize)\n",
    "        fig.suptitle(station)\n",
    "        ax.plot(data_w_leaks.index, data_w_leaks[station], linewidth=.1, zorder=0, color='tab:blue',\n",
    "                label='Mesure nettoyée')\n",
    "        ax.plot(df_leaks_daily_min.index, df_leaks_daily_min, zorder=1, color='tab:red', linestyle='--',\n",
    "                linewidth=1, label='Fuites journalières moyennes')\n",
    "        xLims = data_w_leaks.index.min(), data_w_leaks.index.max()#ax.get_xlim()\n",
    "        ax.plot([xLims[0], xLims[1]], [0,0], color='tab:grey')\n",
    "        ax.plot([xLims[0], xLims[1]], [meanLeaks, meanLeaks], color='tab:red', linewidth=.5)\n",
    "        ax.text(xLims[1]+td(days=1), meanLeaks, 'Moyenne: {:.1f}m$^3$/h'.format(meanLeaks), va='center', color='tab:red')\n",
    "        ax.set_ylabel('Débit [m$^3$/h]')\n",
    "        ax.legend(bbox_to_anchor=(0,1,1,0), ncol=3, fontsize=8.5)\n",
    "        plt.tight_layout()\n",
    "    "
   ]
  },
  {
   "cell_type": "markdown",
   "id": "8d861858",
   "metadata": {},
   "source": [
    "## Tableurs"
   ]
  },
  {
   "cell_type": "markdown",
   "id": "67a9cf23",
   "metadata": {},
   "source": [
    "### Courbes de modulation - weekend et weekday"
   ]
  },
  {
   "cell_type": "code",
   "execution_count": 14,
   "id": "1a4d5e5a",
   "metadata": {},
   "outputs": [
    {
     "data": {
      "application/vnd.jupyter.widget-view+json": {
       "model_id": "e9ace0ad614a4464a8df22bf5f5be9b4",
       "version_major": 2,
       "version_minor": 0
      },
      "text/plain": [
       "interactive(children=(Dropdown(description='Input file:', options=('données SWDE',), value='données SWDE'), Ou…"
      ]
     },
     "metadata": {},
     "output_type": "display_data"
    }
   ],
   "source": [
    "# Choisir le fichier d'entrée à partir de la liste renseignée dans le tableur de paramètres\n",
    "fileOptions = list(datasets.keys()) #.Nom.to_list()\n",
    "selectFileWidget = widgets.Dropdown(\n",
    "    options=fileOptions,\n",
    "    value=fileOptions[0],\n",
    "    description='Input file:',\n",
    "    disabled=False,)\n",
    "\n",
    "\n",
    "\n",
    "@interact\n",
    "def SelectInputFile(f=selectFileWidget):\n",
    "    data, dataNorm = PrepareDataframe(datasets[f])\n",
    "    dataCols = [i for i in data.columns if i not in ['month_name', 'weekday_name', 'weekday']]\n",
    "\n",
    "    # Create a list of the stations available\n",
    "    selectStationWidget = widgets.RadioButtons(\n",
    "        options=dataCols,\n",
    "        value=dataCols[0],\n",
    "        description='Station',\n",
    "        layout=layout,\n",
    "        disabled=False)\n",
    "\n",
    "\n",
    "    ###### LAYOUT #######\n",
    "    # Create elements to display\n",
    "    out = widgets.Output()\n",
    "    info = widgets.Label('Choose a station')\n",
    "    CopyButton = CreateCopyButton('Copy to clipboard', 'success')\n",
    "\n",
    "    # Arrange the elements in a grid\n",
    "    grid_data = GridspecLayout(2, 5)\n",
    "    grid_data[1,1] = info\n",
    "    grid_data[1,3] = CopyButton\n",
    "    grid_data[0,:] = out\n",
    "\n",
    "    # Display\n",
    "    display(grid_data)\n",
    "\n",
    "\n",
    "    ###### INTERACTIONS #######\n",
    "    @interact\n",
    "    def SelectStation(station=selectStationWidget):\n",
    "        out.clear_output()\n",
    "        plt.close('all')\n",
    "        #stationData = data[[station, 'weekday', 'weekday_name']]\n",
    "        stationDataNorm = dataNorm[[station, 'weekday', 'weekday_name']]\n",
    "\n",
    "        # 1. Analyse sur les weekdays / weekends\n",
    "        toDisplay = pd.DataFrame()\n",
    "        for day in stationDataNorm['weekday'].unique():\n",
    "            dayDf = stationDataNorm[station][stationDataNorm['weekday']==day]\n",
    "            dayDfToPlot = dayDf.groupby(dayDf.index.hour).median()\n",
    "            toDisplay['{}_{}'.format(station, day)] = dayDfToPlot\n",
    "            #dayDfToPlot.rename({station:'{}_{}'.format(station, day)}, inplace=True)\n",
    "            #print(dayDfToPlot.columns)\n",
    "            #toDisplay = toDisplay.join(dayDfToPlot, how='right')\n",
    "\n",
    "        # Display the values in a table\n",
    "        display(toDisplay.round(3))\n",
    "\n",
    "        # Plot la série temporelle + table en-dessous mais très long - pas nécessaire ici\n",
    "        if False:\n",
    "            fig, ax = plt.subplots()\n",
    "            toDisplay = toDisplay.round(2)\n",
    "            myplot = toDisplay.plot(ax=ax, table=True)\n",
    "            myplot.axes.get_xaxis().set_visible(False)\n",
    "            table = myplot.tables[0]\n",
    "            # Setting the font size\n",
    "            table.set_fontsize(24)        \n",
    "            fig.tight_layout()\n",
    "\n",
    "        # Event listener on the submit button: function to execute when clicked\n",
    "        @CopyButton.on_click\n",
    "        def react_on_click(b):\n",
    "            CopyDataFrameToClipboard(toDisplay)\n",
    "        \n",
    "    \n",
    "    "
   ]
  },
  {
   "cell_type": "markdown",
   "id": "952d3dbc",
   "metadata": {},
   "source": [
    "### Courbes de modulation - chaque jour de la semaine"
   ]
  },
  {
   "cell_type": "code",
   "execution_count": 67,
   "id": "8adb4a61",
   "metadata": {},
   "outputs": [
    {
     "data": {
      "application/vnd.jupyter.widget-view+json": {
       "model_id": "ffa2505d67954fa18da5ba6e6e865b77",
       "version_major": 2,
       "version_minor": 0
      },
      "text/plain": [
       "interactive(children=(Dropdown(description='Input file:', options=('données SWDE',), value='données SWDE'), Ou…"
      ]
     },
     "metadata": {},
     "output_type": "display_data"
    }
   ],
   "source": [
    "# Choisir le fichier d'entrée à partir de la liste renseignée dans le tableur de paramètres\n",
    "fileOptions = list(datasets.keys()) #.Nom.to_list()\n",
    "selectFileWidget = widgets.Dropdown(\n",
    "    options=fileOptions,\n",
    "    value=fileOptions[0],\n",
    "    description='Input file:',\n",
    "    disabled=False,)\n",
    "\n",
    "@interact\n",
    "def SelectInputFile(f=selectFileWidget):\n",
    "    data, dataNorm = PrepareDataframe(datasets[f])\n",
    "    dataCols = [i for i in data.columns if i not in ['month_name', 'weekday_name', 'weekday']]\n",
    "\n",
    "    selectStationWidget = widgets.RadioButtons(\n",
    "        options=dataCols,\n",
    "        value=dataCols[0],\n",
    "        description='Station',\n",
    "        layout=layout,\n",
    "        disabled=False)\n",
    "    \n",
    "    ###### LAYOUT #######\n",
    "    # Create elements to display\n",
    "    out = widgets.Output()\n",
    "    info = widgets.Label('Choose a station')\n",
    "    CopyButton = CreateCopyButton('Copy to clipboard', 'success')\n",
    "\n",
    "    # Arrange the elements in a grid\n",
    "    grid_data = GridspecLayout(2, 5)\n",
    "    grid_data[1,1] = info\n",
    "    grid_data[1,3] = CopyButton\n",
    "    grid_data[0,:] = out\n",
    "\n",
    "    # Display\n",
    "    display(grid_data)\n",
    "    \n",
    "    ###### INTERACTIONS #######\n",
    "    @interact\n",
    "    def SelectStation(station=selectStationWidget):\n",
    "        plt.close('all')\n",
    "        #stationData = data[[station, 'weekday', 'weekday_name']]\n",
    "        stationDataNorm = dataNorm[[station, 'weekday', 'weekday_name']]\n",
    "\n",
    "        # 1. Analyse sur les weekdays / weekends\n",
    "        toDisplay = pd.DataFrame()\n",
    "        for day in weekdays:\n",
    "            dayDf = stationDataNorm[station][stationDataNorm['weekday_name']==day]\n",
    "            dayDfToPlot = dayDf.groupby(dayDf.index.hour).median()\n",
    "            toDisplay['{}_{}'.format(station, day)] = dayDfToPlot\n",
    "            #dayDfToPlot.rename({station:'{}_{}'.format(station, day)}, inplace=True)\n",
    "            #print(dayDfToPlot.columns)\n",
    "            #toDisplay = toDisplay.join(dayDfToPlot, how='right')\n",
    "\n",
    "        # Display the values in a table\n",
    "        display(toDisplay.round(3))\n",
    "        \n",
    "        # Event listener on the submit button: function to execute when clicked\n",
    "        @CopyButton.on_click\n",
    "        def react_on_click(b):\n",
    "            CopyDataFrameToClipboard(toDisplay)\n",
    "        "
   ]
  }
 ],
 "metadata": {
  "hide_input": false,
  "kernelspec": {
   "display_name": "Python 3 (ipykernel)",
   "language": "python",
   "name": "python3"
  },
  "language_info": {
   "codemirror_mode": {
    "name": "ipython",
    "version": 3
   },
   "file_extension": ".py",
   "mimetype": "text/x-python",
   "name": "python",
   "nbconvert_exporter": "python",
   "pygments_lexer": "ipython3",
   "version": "3.7.11"
  },
  "toc": {
   "base_numbering": 1,
   "nav_menu": {},
   "number_sections": true,
   "sideBar": true,
   "skip_h1_title": false,
   "title_cell": "Table of Contents",
   "title_sidebar": "Contents",
   "toc_cell": false,
   "toc_position": {
    "height": "calc(100% - 180px)",
    "left": "10px",
    "top": "150px",
    "width": "335.333px"
   },
   "toc_section_display": true,
   "toc_window_display": true
  },
  "varInspector": {
   "cols": {
    "lenName": 16,
    "lenType": 16,
    "lenVar": 40
   },
   "kernels_config": {
    "python": {
     "delete_cmd_postfix": "",
     "delete_cmd_prefix": "del ",
     "library": "var_list.py",
     "varRefreshCmd": "print(var_dic_list())"
    },
    "r": {
     "delete_cmd_postfix": ") ",
     "delete_cmd_prefix": "rm(",
     "library": "var_list.r",
     "varRefreshCmd": "cat(var_dic_list()) "
    }
   },
   "types_to_exclude": [
    "module",
    "function",
    "builtin_function_or_method",
    "instance",
    "_Feature"
   ],
   "window_display": false
  }
 },
 "nbformat": 4,
 "nbformat_minor": 5
}
